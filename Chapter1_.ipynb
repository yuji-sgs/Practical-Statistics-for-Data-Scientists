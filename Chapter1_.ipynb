{
  "nbformat": 4,
  "nbformat_minor": 0,
  "metadata": {
    "colab": {
      "provenance": [],
      "authorship_tag": "ABX9TyOz7mexo7uqkutz4RpiGd4t",
      "include_colab_link": true
    },
    "kernelspec": {
      "name": "python3",
      "display_name": "Python 3"
    },
    "language_info": {
      "name": "python"
    }
  },
  "cells": [
    {
      "cell_type": "markdown",
      "metadata": {
        "id": "view-in-github",
        "colab_type": "text"
      },
      "source": [
        "<a href=\"https://colab.research.google.com/github/yuji-sgs/Practical-Statistics-for-Data-Scientists/blob/main/Chapter1_.ipynb\" target=\"_parent\"><img src=\"https://colab.research.google.com/assets/colab-badge.svg\" alt=\"Open In Colab\"/></a>"
      ]
    },
    {
      "cell_type": "markdown",
      "source": [
        "# 1章：探索的データ分析"
      ],
      "metadata": {
        "id": "qHGME8Zgf3kf"
      }
    },
    {
      "cell_type": "code",
      "source": [
        "from google.colab import drive\n",
        "drive.mount('/content/drive')"
      ],
      "metadata": {
        "colab": {
          "base_uri": "https://localhost:8080/"
        },
        "id": "5LTjFZL9kp_g",
        "outputId": "bc128512-64d6-4fbb-b9bf-3e15097d8162"
      },
      "execution_count": 19,
      "outputs": [
        {
          "output_type": "stream",
          "name": "stdout",
          "text": [
            "Mounted at /content/drive\n"
          ]
        }
      ]
    },
    {
      "cell_type": "code",
      "source": [
        "%matplotlib inline\n",
        "\n",
        "from pathlib import Path\n",
        "\n",
        "import pandas as pd\n",
        "import numpy as np\n",
        "from scipy.stats import trim_mean\n",
        "from statsmodels import robust\n",
        "# import wquantiles\n",
        "\n",
        "import seaborn as sns\n",
        "import matplotlib.pylab as plt"
      ],
      "metadata": {
        "id": "zqTCbZ3UlwQe"
      },
      "execution_count": 27,
      "outputs": []
    },
    {
      "cell_type": "code",
      "source": [
        "dir = Path('drive/MyDrive/Colab Notebooks/技術書/データサイエンスのための統計学入門/data')"
      ],
      "metadata": {
        "id": "nX5lPYTyk1y1"
      },
      "execution_count": 28,
      "outputs": []
    },
    {
      "cell_type": "code",
      "source": [
        "AIRLINE_STATS_CSV = dir / 'airline_stats.csv'\n",
        "KC_TAX_CSV = dir / 'kc_tax.csv.gz'\n",
        "LC_LOANS_CSV = dir / 'lc_loans.csv'\n",
        "AIRPORT_DELAYS_CSV = dir / 'dfw_airline.csv'\n",
        "SP500_DATA_CSV = dir / 'sp500_data.csv.gz'\n",
        "SP500_SECTORS_CSV = dir / 'sp500_sectors.csv'\n",
        "STATE_CSV = dir / 'state.csv'"
      ],
      "metadata": {
        "id": "T3vkNe9QhZDs"
      },
      "execution_count": 29,
      "outputs": []
    }
  ]
}